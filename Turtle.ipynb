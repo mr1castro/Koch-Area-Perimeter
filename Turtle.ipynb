{
 "cells": [
  {
   "cell_type": "code",
   "execution_count": 1,
   "metadata": {
    "collapsed": true
   },
   "outputs": [],
   "source": [
    "import turtle as t"
   ]
  },
  {
   "cell_type": "markdown",
   "metadata": {},
   "source": [
    "# Generating the Koch Curve"
   ]
  },
  {
   "cell_type": "code",
   "execution_count": 2,
   "metadata": {
    "collapsed": true
   },
   "outputs": [],
   "source": []
  },
  {
   "cell_type": "code",
   "execution_count": null,
   "metadata": {
    "collapsed": true
   },
   "outputs": [],
   "source": [
    "def koch(x, L, n):\n",
    "    if n > 0:\n",
    "        for angle in [60, -120, 60, 0]:\n",
    "            koch(angle, L/3, n-1)\n",
    "            t.left(angle)\n",
    "    else:\n",
    "        t.forward(L)\n",
    "        \n",
    "def snowflake(x, L, n):\n",
    "    for i in range(4):\n",
    "        koch(x, L, n)\n",
    "        t.right(120)\n",
    "\n",
    "t.setworldcoordinates(0,0,100,100)\n",
    "t.color('black')\n",
    "t.pensize(0.5)\n",
    "t.penup()\n",
    "t.setpos(10,72)\n",
    "t.pendown()\n",
    "t.hideturtle()\n",
    "t.tracer(10)\n",
    "length = 80\n",
    "n = 5\n",
    "snowflake(t, length, n) \n",
    "t.Screen()\n",
    "t.exitonclick()"
   ]
  },
  {
   "cell_type": "markdown",
   "metadata": {},
   "source": [
    "# Calculating the Perimeter"
   ]
  },
  {
   "cell_type": "markdown",
   "metadata": {},
   "source": [
    "For the sake of analysis, we assume a unit length for each partition of the triangle as it is an arbitrary constant."
   ]
  },
  {
   "cell_type": "code",
   "execution_count": 3,
   "metadata": {
    "collapsed": true
   },
   "outputs": [],
   "source": [
    "import numpy as np\n",
    "from sympy import *\n",
    "m = Symbol('m')\n",
    "length = 1\n",
    "n = 100"
   ]
  },
  {
   "cell_type": "code",
   "execution_count": 4,
   "metadata": {
    "scrolled": true
   },
   "outputs": [
    {
     "name": "stdout",
     "output_type": "stream",
     "text": [
      "oo\n"
     ]
    }
   ],
   "source": [
    "perim_fxn = 3*length*((4/3)**m)\n",
    "perimeter = limit(perim_fxn,m,oo)\n",
    "print(perimeter)"
   ]
  },
  {
   "cell_type": "code",
   "execution_count": 5,
   "metadata": {},
   "outputs": [],
   "source": [
    "perim_plot = []\n",
    "for i in range(n):\n",
    "    perim_plot.append(3*length*((4/3)**i))"
   ]
  },
  {
   "cell_type": "markdown",
   "metadata": {},
   "source": [
    "# Calculating the Area"
   ]
  },
  {
   "cell_type": "code",
   "execution_count": 8,
   "metadata": {},
   "outputs": [
    {
     "name": "stdout",
     "output_type": "stream",
     "text": [
      "Initial area for n = 0 is equal to = 0.433012701892\n",
      "Total area for 100 levels is equal to = 0.692820323028\n",
      "Theoretical total area for n approaches infinity is equal to 0.692820323028\n"
     ]
    }
   ],
   "source": [
    "area=[]\n",
    "length = 1\n",
    "for i in range(n):\n",
    "    if i == 0:\n",
    "        area.append((np.sqrt(3)/4)*(length**2))\n",
    "    if i == 1:\n",
    "        area.append((np.sqrt(3)/4)*(length**2) * (3*(1/3)**2))\n",
    "    elif i > 1:\n",
    "        area.append((np.sqrt(3)/4)*(length**2) * (3*(4**(i-1)))*(1/(3**(i))**2))\n",
    "total_area = np.sum(area)\n",
    "init_area = area[0]\n",
    "print('Initial area for n = 0 is equal to =',init_area)\n",
    "print ('Total area for', n ,'levels is equal to =',total_area)\n",
    "print('Theoretical total area for n approaches infinity is equal to',init_area*(8/5))"
   ]
  },
  {
   "cell_type": "code",
   "execution_count": 9,
   "metadata": {},
   "outputs": [],
   "source": [
    "area_plot = [area[0]]\n",
    "for i in range(0,n-1):\n",
    "    area_plot.append(area_plot[-1]+area[i+1])"
   ]
  },
  {
   "cell_type": "code",
   "execution_count": 10,
   "metadata": {},
   "outputs": [],
   "source": [
    "import matplotlib.pyplot as plt\n",
    "%matplotlib inline"
   ]
  },
  {
   "cell_type": "code",
   "execution_count": 11,
   "metadata": {},
   "outputs": [
    {
     "data": {
      "image/png": "[encoded data removed]",
      "text/plain": [
       "<Figure size 432x288 with 2 Axes>"
      ]
     },
     "metadata": {},
     "output_type": "display_data"
    },
    {
     "data": {
      "text/plain": [
       "<Figure size 432x288 with 0 Axes>"
      ]
     },
     "metadata": {},
     "output_type": "display_data"
    }
   ],
   "source": [
    "fig, ax1 = plt.subplots()\n",
    "ax1.plot(area_plot, 'k-')\n",
    "ax1.set_xlabel('n Levels')\n",
    "# Make the y-axis label, ticks and tick labels match the line color.\n",
    "ax1.set_ylabel('Area', color='k')\n",
    "ax1.tick_params('y', colors='k')\n",
    "\n",
    "ax2 = ax1.twinx()\n",
    "ax2.plot(perim_plot, 'r:')\n",
    "ax2.set_ylabel('Perimeter', color='r')\n",
    "ax2.tick_params('y', colors='r')\n",
    "plt.title('Area and Perimeter vs Number of Levels')\n",
    "fig.tight_layout()\n",
    "plt.show()\n",
    "plt.savefig('AreaPerim')"
   ]
  },
  {
   "cell_type": "code",
   "execution_count": null,
   "metadata": {
    "collapsed": true
   },
   "outputs": [],
   "source": []
  }
 ],
 "metadata": {
  "kernelspec": {
   "display_name": "Python 3",
   "language": "python",
   "name": "python3"
  },
  "language_info": {
   "codemirror_mode": {
    "name": "ipython",
    "version": 3
   },
   "file_extension": ".py",
   "mimetype": "text/x-python",
   "name": "python",
   "nbconvert_exporter": "python",
   "pygments_lexer": "ipython3",
   "version": "3.6.6"
  }
 },
 "nbformat": 4,
 "nbformat_minor": 2
}
